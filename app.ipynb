{
 "cells": [
  {
   "cell_type": "code",
   "execution_count": null,
   "id": "655e13d8-0174-4591-b850-7159aef37ef6",
   "metadata": {},
   "outputs": [],
   "source": [
    "# pip install -r requirements.txt\n"
   ]
  },
  {
   "cell_type": "code",
   "execution_count": 3,
   "id": "6048b74d-2903-46c9-88da-6e7bc03c0c1d",
   "metadata": {},
   "outputs": [
    {
     "name": "stdout",
     "output_type": "stream",
     "text": [
      "=======\n",
      "{\n",
      "    \"csv_map\": {\n",
      "        \"directors\": {\n",
      "            \"filepath_or_buffer\": \"files/archive/900_acclaimed_directors_awards.csv\",\n",
      "            \"sep\": \";\"\n",
      "        }\n",
      "    },\n",
      "    \"etl\": {\n",
      "        \"directors\": {\n",
      "            \"column_map\": {\n",
      "                \"Total awards\": \"total_awards\",\n",
      "                \"imdbID\": \"id\",\n",
      "                \"name\": \"name\"\n",
      "            },\n",
      "            \"node_name\": \"Director\"\n",
      "        }\n",
      "    },\n",
      "    \"neo4j\": {\n",
      "        \"db\": null,\n",
      "        \"password\": \"1234\",\n",
      "        \"uri\": \"bolt://localhost:7687\",\n",
      "        \"username\": \"neo4j\"\n",
      "    }\n",
      "}\n",
      "======\n"
     ]
    }
   ],
   "source": [
    "import sys\n",
    "sys.path.append(\"./src\")\n",
    "from src.utils import utils\n",
    "from src.app import run_app\n",
    "\n",
    "settings = utils.get_settings_notebook('settings.json')\n",
    "utils.pretty_print(settings)"
   ]
  },
  {
   "cell_type": "code",
   "execution_count": null,
   "id": "6f4fffe1-6b65-4b38-8e91-c2f34018a4ed",
   "metadata": {},
   "outputs": [],
   "source": [
    "import pandas as pd\n",
    "df = pd.read_csv('files/archive/900_acclaimed_directors_awards.csv', delimiter=';')\n",
    "df.head()"
   ]
  },
  {
   "cell_type": "code",
   "execution_count": null,
   "id": "885d8726-7b25-4846-b08f-556424fe1f9b",
   "metadata": {},
   "outputs": [],
   "source": [
    "run_app(settings, 'etl')"
   ]
  }
 ],
 "metadata": {
  "kernelspec": {
   "display_name": "Python 3 (ipykernel)",
   "language": "python",
   "name": "python3"
  },
  "language_info": {
   "codemirror_mode": {
    "name": "ipython",
    "version": 3
   },
   "file_extension": ".py",
   "mimetype": "text/x-python",
   "name": "python",
   "nbconvert_exporter": "python",
   "pygments_lexer": "ipython3",
   "version": "3.8.13"
  }
 },
 "nbformat": 4,
 "nbformat_minor": 5
}
