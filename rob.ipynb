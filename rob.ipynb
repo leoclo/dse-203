{
 "cells": [
  {
   "cell_type": "code",
   "execution_count": null,
   "id": "8c8b1e36-8026-4311-89fa-81a6e5e8ddb0",
   "metadata": {},
   "outputs": [],
   "source": [
    "import sqlalchemy as sql\n",
    "import psycopg2 as pc\n",
    "import pandas as pd\n",
    "import numpy as np\n",
    "import spacy as sp\n",
    "from neo4j import GraphDatabase\n",
    "from neo4j.exceptions import ServiceUnavailable\n",
    "import csv\n",
    "import json\n",
    "from jsonpath_ng.ext import parse "
   ]
  },
  {
   "cell_type": "code",
   "execution_count": null,
   "id": "6d00184a-f567-4230-a6f0-782ac2e80f69",
   "metadata": {},
   "outputs": [],
   "source": [
    "awards_filepath = \"src/files/220k_awards_by_directors.csv\"\n",
    "movies_filepath     = \"src/files/AllMoviesDetailsCleaned.csv\"\n",
    "cast_filepath       = \"src/files/AllMoviesCastingRaw.csv\"\n",
    "\n",
    "awards_df = pd.read_csv(awards_filepath, delimiter=\",\")\n",
    "movies_df = pd.read_csv(movies_filepath, delimiter=\";\")\n",
    "cast_df = pd.read_csv(cast_filepath, delimiter=\";\")"
   ]
  },
  {
   "cell_type": "code",
   "execution_count": null,
   "id": "ba808fcb-1057-4318-bc37-ac2c83a2d32c",
   "metadata": {},
   "outputs": [],
   "source": [
    "def processMovies(df, movie_file):\n",
    "    movie_header = [\"title:ID\", ]\n",
    "    company_header = \n",
    "    movie_data{}"
   ]
  },
  {
   "cell_type": "code",
   "execution_count": null,
   "id": "e11ac7fa-0255-4342-8ce1-80e14f4bf1b4",
   "metadata": {},
   "outputs": [],
   "source": [
    "\n",
    "\n",
    "def processAwards(node_file, relation_file):\n",
    "    node_header = [\"patentId:ID\", \"assignee:string[]\", \":LABEL\"]\n",
    "    relation_header = [\":START_ID\",\":TYPE\", \":END_ID\"]\n",
    "    node_data = {}\n",
    "    relation_data = []\n",
    "    # get nodes\n",
    "    for i, row in df.iterrows():\n",
    "        patentid = row[\"patentid\"]\n",
    "        citations = row[\"cite\"]\n",
    "        \n",
    "        # Skip if either are empty\n",
    "        if patentid is None or citations is None:\n",
    "            continue;\n",
    "\n",
    "        # Ensure all nodes are included. Use cite data for assignee\n",
    "        if (patentid not in node_data):\n",
    "            node_data[patentid] = [patentid, \"\", \"Patent\"]\n",
    "            \n",
    "        # Get backward references (node CITES other)\n",
    "        if (\"backwardReferences\" in citations):\n",
    "            for backRef in citations[\"backwardReferences\"]:\n",
    "                cite_id = backRef[0]\n",
    "                cite_date = backRef[1]\n",
    "                cite_assignee = list([backRef[2]])\n",
    "                cite_desc = backRef[3]\n",
    "                \n",
    "                relation_data.append([patentid, \"cites\", cite_id])\n",
    "\n",
    "                # Fill in new node\n",
    "                if (cite_id not in node_data):\n",
    "                    node_data[cite_id] = [cite_id, \";\".join(cite_assignee), \"Patent\"]\n",
    "                # Add assignee to existing node if empty\n",
    "                elif (node_data[cite_id][1] == \"\"):\n",
    "                    node_data[cite_id][1] = \";\".join(cite_assignee)\n",
    "        # Get forward references (other CITES node)\n",
    "        if (\"forwardReferencesFamily\" in citations):\n",
    "            for frontRef in citations[\"forwardReferencesFamily\"]:\n",
    "                cite_id = frontRef[0]\n",
    "                cite_date = frontRef[1]\n",
    "                cite_assignee = list([frontRef[2]])\n",
    "                cite_desc = frontRef[3]\n",
    "\n",
    "                relation_data.append([cite_id, \"family-cites\", patentid])\n",
    "\n",
    "                if (cite_id not in node_data):\n",
    "                    node_data[cite_id] = [cite_id, \";\".join(cite_assignee), \"Patent\"]\n",
    "                elif (node_data[cite_id][1] == \"\"):\n",
    "                    node_data[cite_id][1] = \";\".join(cite_assignee)\n",
    "    # write nodes file \n",
    "    with open(node_file, 'w',  newline='', encoding='utf-8') as f:\n",
    "        writer = csv.writer(f)\n",
    "        writer.writerow(node_header)\n",
    "        for row in node_data.values():\n",
    "            writer.writerow(row)\n",
    "    # wirte relation file \n",
    "    with open(relation_file, 'w',  newline='', encoding='utf-8') as f:\n",
    "        writer = csv.writer(f)\n",
    "        writer.writerow(relation_header)\n",
    "        writer.writerows(relation_data) "
   ]
  },
  {
   "cell_type": "code",
   "execution_count": null,
   "id": "60315794-6dfe-4216-b4af-012b4efe65c7",
   "metadata": {},
   "outputs": [],
   "source": []
  },
  {
   "cell_type": "code",
   "execution_count": null,
   "id": "3361ac23-c71b-4503-8918-186d5b296227",
   "metadata": {},
   "outputs": [],
   "source": []
  }
 ],
 "metadata": {
  "kernelspec": {
   "display_name": "test",
   "language": "python",
   "name": "test"
  },
  "language_info": {
   "codemirror_mode": {
    "name": "ipython",
    "version": 3
   },
   "file_extension": ".py",
   "mimetype": "text/x-python",
   "name": "python",
   "nbconvert_exporter": "python",
   "pygments_lexer": "ipython3",
   "version": "3.9.13"
  }
 },
 "nbformat": 4,
 "nbformat_minor": 5
}
