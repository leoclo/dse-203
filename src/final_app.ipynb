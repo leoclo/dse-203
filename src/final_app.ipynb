{
 "cells": [
  {
   "cell_type": "code",
   "execution_count": null,
   "id": "6cdd499b-31a5-4414-97ad-b5fdb2dddab8",
   "metadata": {},
   "outputs": [],
   "source": [
    "# pip install -r ../requirements.txt"
   ]
  },
  {
   "cell_type": "code",
   "execution_count": null,
   "id": "9765259b-80c6-4520-aac8-617704b1bf43",
   "metadata": {},
   "outputs": [],
   "source": [
    "from utils import utils\n",
    "from app import run_app, App\n",
    "from core.gen_topics import gen_topics\n",
    "from graphneo4j import GraphNeo4j\n",
    "import warnings\n",
    "warnings.filterwarnings(\"ignore\") # supress all the warnings"
   ]
  },
  {
   "cell_type": "markdown",
   "id": "28f6674b-5f67-4377-8b9b-14956b1ce34b",
   "metadata": {},
   "source": [
    "## Generate topics\n",
    "  - Use this section to generate the csv's for topics and keywords"
   ]
  },
  {
   "cell_type": "code",
   "execution_count": null,
   "id": "6b97ff13-dc68-4602-ad98-546c634a3cbd",
   "metadata": {},
   "outputs": [],
   "source": [
    "settings = utils.get_settings_notebook('../settings_topics.json')\n",
    "app = App(settings)\n",
    "dfs = app.extract_transform()\n",
    "\n",
    "movie_topics = gen_topics()\n",
    "# (df_movie_topics, df_topic_words) = movie_topics.batch_process(data_df['movies'][data_df['movies']['lang'] == 'en'])\n",
    "(df_movie_topics, df_topic_words) = movie_topics.batch_process(dfs['movies'][\n",
    "    dfs['movies']['overview'].apply(lambda x: x is not None and len(x) > 30)\n",
    "])\n",
    "df_topic_words.reset_index(drop=True, inplace=True)\n",
    "df_movie_topics.reset_index(drop=True, inplace=True)\n",
    "# display(df_topic_words)\n",
    "# display(df_movie_topics)\n",
    "df_topic_words.to_csv('./files/archive/topic_words.csv', index=True)\n",
    "df_movie_topics.to_csv('./files/archive/movie_topic_ids.csv', index=True)"
   ]
  },
  {
   "cell_type": "markdown",
   "id": "86888a06-1cde-4630-8edc-73fe013c568e",
   "metadata": {},
   "source": [
    "## Load the dataframes into graph database (Neo4j)"
   ]
  },
  {
   "cell_type": "code",
   "execution_count": null,
   "id": "910deba8-de81-49e6-95e8-578791874642",
   "metadata": {},
   "outputs": [],
   "source": [
    "settings = utils.get_settings_notebook('../settings.json')\n",
    "# utils.pretty_print(settings)\n",
    "app = App(settings)\n",
    "app.etl()"
   ]
  },
  {
   "cell_type": "markdown",
   "id": "f558b831-44ec-4fef-8f53-8c490f28868f",
   "metadata": {},
   "source": [
    "## ADD KEYWORDS NODE"
   ]
  }
 ],
 "metadata": {
  "kernelspec": {
   "display_name": "test",
   "language": "python",
   "name": "test"
  },
  "language_info": {
   "codemirror_mode": {
    "name": "ipython",
    "version": 3
   },
   "file_extension": ".py",
   "mimetype": "text/x-python",
   "name": "python",
   "nbconvert_exporter": "python",
   "pygments_lexer": "ipython3",
   "version": "3.9.13"
  }
 },
 "nbformat": 4,
 "nbformat_minor": 5
}
