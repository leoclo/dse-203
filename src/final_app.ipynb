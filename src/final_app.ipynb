{
 "cells": [
  {
   "cell_type": "code",
   "execution_count": 1,
   "id": "6cdd499b-31a5-4414-97ad-b5fdb2dddab8",
   "metadata": {},
   "outputs": [],
   "source": [
    "# pip install -r ../requirements.txt"
   ]
  },
  {
   "cell_type": "code",
   "execution_count": 2,
   "id": "9765259b-80c6-4520-aac8-617704b1bf43",
   "metadata": {},
   "outputs": [
    {
     "name": "stderr",
     "output_type": "stream",
     "text": [
      "/opt/Anaconda/anaconda3/envs/ucsd1/lib/python3.8/site-packages/tqdm/auto.py:22: TqdmWarning: IProgress not found. Please update jupyter and ipywidgets. See https://ipywidgets.readthedocs.io/en/stable/user_install.html\n",
      "  from .autonotebook import tqdm as notebook_tqdm\n",
      "/opt/Anaconda/anaconda3/envs/ucsd1/lib/python3.8/site-packages/past/builtins/misc.py:45: DeprecationWarning: the imp module is deprecated in favour of importlib; see the module's documentation for alternative uses\n",
      "  from imp import reload\n"
     ]
    }
   ],
   "source": [
    "from utils import utils\n",
    "from app import run_app, App\n",
    "from core.gen_topics import gen_topics\n",
    "from graphneo4j import GraphNeo4j\n",
    "import warnings\n",
    "warnings.filterwarnings(\"ignore\") # supress all the warnigns\n",
    "\n",
    "\n"
   ]
  },
  {
   "cell_type": "markdown",
   "id": "28f6674b-5f67-4377-8b9b-14956b1ce34b",
   "metadata": {},
   "source": [
    "## Generate topics\n",
    "  - Use this section to generate the csv's for topics and keywords"
   ]
  },
  {
   "cell_type": "code",
   "execution_count": 3,
   "id": "6b97ff13-dc68-4602-ad98-546c634a3cbd",
   "metadata": {},
   "outputs": [
    {
     "name": "stdout",
     "output_type": "stream",
     "text": [
      "==== TRANSFORM directors ====\n",
      "==== TRANSFORM movies ====\n",
      "==== TRANSFORM cast ====\n"
     ]
    },
    {
     "name": "stderr",
     "output_type": "stream",
     "text": [
      "2022-12-11 22:46:41 INFO: Checking for updates to resources.json in case models have been updated.  Note: this behavior can be turned off with download_method=None or download_method=DownloadMethod.REUSE_RESOURCES\n",
      "2022-12-11 22:46:41,866 : INFO : Checking for updates to resources.json in case models have been updated.  Note: this behavior can be turned off with download_method=None or download_method=DownloadMethod.REUSE_RESOURCES\n",
      "Downloading https://raw.githubusercontent.com/stanfordnlp/stanza-resources/main/resources_1.4.1.json: 193kB [00:00, 4.67MB/s]                                                                                                                                                        \n",
      "2022-12-11 22:46:43 INFO: Loading these models for language: en (English):\n",
      "============================\n",
      "| Processor    | Package   |\n",
      "----------------------------\n",
      "| tokenize     | combined  |\n",
      "| pos          | combined  |\n",
      "| lemma        | combined  |\n",
      "| depparse     | combined  |\n",
      "| sentiment    | sstplus   |\n",
      "| constituency | wsj       |\n",
      "| ner          | ontonotes |\n",
      "============================\n",
      "\n",
      "2022-12-11 22:46:43,151 : INFO : Loading these models for language: en (English):\n",
      "============================\n",
      "| Processor    | Package   |\n",
      "----------------------------\n",
      "| tokenize     | combined  |\n",
      "| pos          | combined  |\n",
      "| lemma        | combined  |\n",
      "| depparse     | combined  |\n",
      "| sentiment    | sstplus   |\n",
      "| constituency | wsj       |\n",
      "| ner          | ontonotes |\n",
      "============================\n",
      "\n",
      "2022-12-11 22:46:43 INFO: Use device: gpu\n",
      "2022-12-11 22:46:43,152 : INFO : Use device: gpu\n",
      "2022-12-11 22:46:43 INFO: Loading: tokenize\n",
      "2022-12-11 22:46:43,153 : INFO : Loading: tokenize\n",
      "2022-12-11 22:46:44 INFO: Loading: pos\n",
      "2022-12-11 22:46:44,575 : INFO : Loading: pos\n",
      "2022-12-11 22:46:44 INFO: Loading: lemma\n",
      "2022-12-11 22:46:44,801 : INFO : Loading: lemma\n",
      "2022-12-11 22:46:44 INFO: Loading: depparse\n",
      "2022-12-11 22:46:44,822 : INFO : Loading: depparse\n",
      "2022-12-11 22:46:44 INFO: Loading: sentiment\n",
      "2022-12-11 22:46:44,972 : INFO : Loading: sentiment\n",
      "2022-12-11 22:46:45 INFO: Loading: constituency\n",
      "2022-12-11 22:46:45,254 : INFO : Loading: constituency\n",
      "2022-12-11 22:46:45 INFO: Loading: ner\n",
      "2022-12-11 22:46:45,560 : INFO : Loading: ner\n",
      "2022-12-11 22:46:45 INFO: Done loading processors!\n",
      "2022-12-11 22:46:45,898 : INFO : Done loading processors!\n"
     ]
    }
   ],
   "source": [
    "settings = utils.get_settings_notebook('../settings_topics.json')\n",
    "app = App(settings)\n",
    "dfs = app.extract_transform()\n",
    "\n",
    "movie_topics = gen_topics()\n",
    "# (df_movie_topics, df_topic_words) = movie_topics.batch_process(data_df['movies'][data_df['movies']['lang'] == 'en'])\n",
    "(df_movie_topics, df_topic_words) = movie_topics.batch_process(dfs['movies'][\n",
    "    dfs['movies']['overview'].apply(lambda x: x is not None and len(x) > 30)\n",
    "])\n",
    "df_topic_words.reset_index(drop=True, inplace=True)\n",
    "df_movie_topics.reset_index(drop=True, inplace=True)\n",
    "# display(df_topic_words)\n",
    "# display(df_movie_topics)\n",
    "df_topic_words.to_csv('./files/archive/topic_words.csv', index=True)\n",
    "df_movie_topics.to_csv('./files/archive/movie_topic_ids.csv', index=True)"
   ]
  },
  {
   "cell_type": "markdown",
   "id": "86888a06-1cde-4630-8edc-73fe013c568e",
   "metadata": {},
   "source": [
    "## Load the dataframes into graph database (Neo4j)"
   ]
  },
  {
   "cell_type": "code",
   "execution_count": 4,
   "id": "910deba8-de81-49e6-95e8-578791874642",
   "metadata": {},
   "outputs": [
    {
     "name": "stdout",
     "output_type": "stream",
     "text": [
      "=========  Crwaler award_won ========\n",
      "<class 'pandas.core.frame.DataFrame'>\n",
      "RangeIndex: 598 entries, 0 to 597\n",
      "Data columns (total 5 columns):\n",
      " #   Column         Non-Null Count  Dtype \n",
      "---  ------         --------------  ----- \n",
      " 0   award_company  598 non-null    object\n",
      " 1   award_type     598 non-null    object\n",
      " 2   movie          597 non-null    object\n",
      " 3   person         597 non-null    object\n",
      " 4   year           598 non-null    object\n",
      "dtypes: object(5)\n",
      "memory usage: 23.5+ KB\n",
      "None\n",
      "========= end ========\n",
      "=========  Crwaler award_nominated ========\n",
      "<class 'pandas.core.frame.DataFrame'>\n",
      "RangeIndex: 2832 entries, 0 to 2831\n",
      "Data columns (total 5 columns):\n",
      " #   Column         Non-Null Count  Dtype \n",
      "---  ------         --------------  ----- \n",
      " 0   award_company  2832 non-null   object\n",
      " 1   award_type     2832 non-null   object\n",
      " 2   movie          2816 non-null   object\n",
      " 3   person         2243 non-null   object\n",
      " 4   year           2832 non-null   object\n",
      "dtypes: object(5)\n",
      "memory usage: 110.8+ KB\n",
      "None\n",
      "========= end ========\n",
      "==== TRANSFORM topics ====\n",
      "==== TRANSFORM topics_movies ====\n",
      "==== TRANSFORM awards_won ====\n",
      "==== TRANSFORM awards_nominated ====\n",
      "==== TRANSFORM directors ====\n",
      "==== TRANSFORM movies ====\n",
      "==== TRANSFORM cast ====\n",
      "MATCH (n) DETACH DELETE n\n",
      "CREATE CONSTRAINT Topics\n",
      "        IF NOT EXISTS ON (c:Topic)\n",
      "        ASSERT c.id IS UNIQUE\n",
      "CREATE CONSTRAINT Awards\n",
      "        IF NOT EXISTS ON (c:Award)\n",
      "        ASSERT c.award_id IS UNIQUE\n",
      "CREATE CONSTRAINT Companies\n",
      "        IF NOT EXISTS ON (c:Company)\n",
      "        ASSERT c.name IS UNIQUE\n",
      "CREATE CONSTRAINT Genres\n",
      "        IF NOT EXISTS ON (c:Genre)\n",
      "        ASSERT c.name IS UNIQUE\n",
      "CREATE CONSTRAINT People\n",
      "        IF NOT EXISTS ON (c:Person)\n",
      "        ASSERT c.name IS UNIQUE\n",
      "CREATE CONSTRAINT Movies\n",
      "        IF NOT EXISTS ON (c:Movie)\n",
      "        ASSERT c.movie_id IS UNIQUE\n",
      "batch 0\n",
      "UNWIND $rows AS row\n",
      "\n",
      "MERGE (c:Company {name: row.name})\n",
      "\n",
      "RETURN count(*) as total\n",
      "batch 1\n",
      "batch 2\n",
      "batch 3\n",
      "batch 4\n",
      "batch 5\n",
      "batch 6\n",
      "batch 0\n",
      "UNWIND $rows AS row\n",
      "\n",
      "MERGE (g:Genre {name: row.name})\n",
      "\n",
      "RETURN count(*) as total\n",
      "batch 1\n",
      "batch 2\n",
      "batch 3\n",
      "batch 4\n",
      "batch 5\n",
      "batch 6\n",
      "batch 0\n",
      "UNWIND $rows AS row\n",
      "\n",
      "MERGE (aw:Award {award_id: row.award_id, award_company: row.award_company, award_type: row.award_type, year: row.year})\n",
      "\n",
      "RETURN count(*) as total\n",
      "batch 1\n",
      "batch 2\n",
      "batch 3\n",
      "batch 4\n",
      "batch 5\n",
      "batch 6\n",
      "batch 0\n",
      "UNWIND $rows AS row\n",
      "\n",
      "MERGE (t:Topic {topic_id: row.topic_id, topics: row.topics})\n",
      "\n",
      "RETURN count(*) as total\n",
      "batch 1\n",
      "batch 2\n",
      "batch 3\n",
      "batch 4\n",
      "batch 5\n",
      "batch 6\n",
      "batch 0\n",
      "UNWIND $rows AS row\n",
      "\n",
      "MERGE (p:Person {name: row.name, gender: row.gender})\n",
      "\n",
      "WITH row, p\n",
      "UNWIND row.awards_won AS awards_won\n",
      "MATCH (aw:Award {award_id: awards_won.award_id})\n",
      "MERGE (p)-[:WON]->(aw)\n",
      "MERGE (p)-[:NOMINATED]->(aw)\n",
      "WITH row, p\n",
      "UNWIND row.awards_nominated AS awards_nominated\n",
      "MATCH (an:Award {award_id: awards_nominated.award_id})\n",
      "MERGE (p)-[:NOMINATED]->(an)\n",
      "RETURN count(*) as total\n",
      "batch 1\n",
      "batch 2\n",
      "batch 3\n",
      "batch 4\n",
      "batch 5\n",
      "batch 6\n",
      "batch 0\n",
      "UNWIND $rows AS row\n",
      "\n",
      "MERGE (m:Movie {movie_id: row.movie_id, imdb_id: row.imdb_id, lang: row.lang, title: row.title, overview: row.overview})\n",
      "\n",
      "WITH row, m\n",
      "UNWIND row.directors AS directors\n",
      "MATCH (d:Person {name: directors.name})\n",
      "MERGE (d)-[:DIRECTED]->(m)\n",
      "WITH row, m\n",
      "UNWIND row.companies AS companies\n",
      "MATCH (c:Company {name: companies.name})\n",
      "MERGE (c)-[:PRODUCED]->(m)\n",
      "WITH row, m\n",
      "UNWIND row.genres AS genres\n",
      "MATCH (g:Genre {name: genres.name})\n",
      "MERGE (m)-[:HAS_GENRE]->(g)\n",
      "WITH row, m\n",
      "UNWIND row.actors AS actors\n",
      "MATCH (a:Person {name: actors.name})\n",
      "MERGE (a)-[:ACTED_IN]->(m)\n",
      "WITH row, m\n",
      "UNWIND row.awards_won AS awards_won\n",
      "MATCH (aw:Award {award_id: awards_won.award_id})\n",
      "MERGE (m)-[:WON]->(aw)\n",
      "MERGE (m)-[:NOMINATED]->(aw)\n",
      "WITH row, m\n",
      "UNWIND row.awards_nominated AS awards_nominated\n",
      "MATCH (an:Award {award_id: awards_nominated.award_id})\n",
      "MERGE (m)-[:NOMINATED]->(an)\n",
      "WITH row, m\n",
      "UNWIND row.topics AS topics\n",
      "MATCH (t:Topic {topic_id: topics.topic_id})\n",
      "MERGE (m)-[:HAS_TOPIC]->(t)\n",
      "RETURN count(*) as total\n",
      "batch 1\n",
      "batch 2\n",
      "batch 3\n",
      "batch 4\n",
      "batch 5\n",
      "batch 6\n"
     ]
    },
    {
     "data": {
      "text/plain": [
       "<graphneo4j.graphneo4j.GraphNeo4j at 0x7f2c602e9a90>"
      ]
     },
     "execution_count": 4,
     "metadata": {},
     "output_type": "execute_result"
    }
   ],
   "source": [
    "settings = utils.get_settings_notebook('../settings.json')\n",
    "# utils.pretty_print(settings)\n",
    "app = App(settings)\n",
    "app.etl()"
   ]
  },
  {
   "cell_type": "markdown",
   "id": "f558b831-44ec-4fef-8f53-8c490f28868f",
   "metadata": {},
   "source": [
    "## ADD KEYWORDS NODE"
   ]
  },
  {
   "cell_type": "code",
   "execution_count": 5,
   "id": "cfe3e1dd-f05f-4a8e-8dc1-b9889af6b3c2",
   "metadata": {},
   "outputs": [],
   "source": [
    "graph4j = GraphNeo4j(**{**settings['neo4j'], 'clear_data': False})"
   ]
  },
  {
   "cell_type": "code",
   "execution_count": 6,
   "id": "82bbfbfe-f8b2-4652-b223-61a2f9fccf06",
   "metadata": {},
   "outputs": [
    {
     "name": "stdout",
     "output_type": "stream",
     "text": [
      "MATCH (t:Topic)<-[]-(m:Movie) UNWIND(t.topics) as keyword\n",
      "    MERGE (k:Keyword {keyword: keyword})\n",
      "    MERGE (k)<-[:HAS_KEYWORD]-(m)\n"
     ]
    }
   ],
   "source": [
    "qry = '''\n",
    "    MATCH (t:Topic)<-[]-(m:Movie) UNWIND(t.topics) as keyword\n",
    "    MERGE (k:Keyword {keyword: keyword})\n",
    "    MERGE (k)<-[:HAS_KEYWORD]-(m)\n",
    "'''\n",
    "graph4j.run_query(qry, {})"
   ]
  },
  {
   "cell_type": "code",
   "execution_count": null,
   "id": "22922d56-2227-417d-8653-a482f7d6302b",
   "metadata": {},
   "outputs": [],
   "source": []
  }
 ],
 "metadata": {
  "kernelspec": {
   "display_name": "Python 3 (ipykernel)",
   "language": "python",
   "name": "python3"
  },
  "language_info": {
   "codemirror_mode": {
    "name": "ipython",
    "version": 3
   },
   "file_extension": ".py",
   "mimetype": "text/x-python",
   "name": "python",
   "nbconvert_exporter": "python",
   "pygments_lexer": "ipython3",
   "version": "3.8.13"
  }
 },
 "nbformat": 4,
 "nbformat_minor": 5
}
